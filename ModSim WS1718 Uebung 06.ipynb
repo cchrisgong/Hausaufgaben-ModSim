{
 "cells": [
  {
   "cell_type": "markdown",
   "metadata": {},
   "source": [
    "# Simulation und Modellierung WS17/18 - Uebung 06"
   ]
  },
  {
   "cell_type": "markdown",
   "metadata": {},
   "source": [
    "### Aufgabe 1: Erzeugung und Multiplikation von Vektoren und Matrizen"
   ]
  },
  {
   "cell_type": "markdown",
   "metadata": {},
   "source": [
    "Die Ableitung einer Funktion $f(x)$ an einer Stelle $x_0$ kann mit Hilfe eines geeigneten Differenzenquotienten approximiert werden. Es gilt\n",
    "\n",
    "$$\n",
    "    \\lim_{h\\to 0} \\frac{f(x_0+h)-f(x_0-h)}{2h} = f'(x_0)\n",
    "$$\n",
    "\n",
    "- Definieren Sie eine `N`x`N` Matrix `D`, welche auf einen `N`x`1` Vektor `f` angewendet die symmetrische Differenz der Gitterpunkte $(Df)_i = f_{i+1}-f_{i-1}$ berechnet, wobei man periodische Randbedingungen $f_{i+N}=f_i$ annimmt. \n",
    "- berechnen Sie mit Hilfe dieser Matrix die erste und zweite Abbleitung der Funktion `f(x) = sin(x)` welche an `N` Gitterpunkten auf dem Intervall $[0,2\\pi)$ gegeben sei.\n",
    "- plotten Sie $f(x)$, $f'(x)$ und $f''(x)$ in ein Diagramm."
   ]
  },
  {
   "cell_type": "code",
   "execution_count": 48,
   "metadata": {
    "collapsed": true
   },
   "outputs": [],
   "source": [
    "#Ausgabe der Plots im Notebook und laden von numpy und pylab (matplotlib+pyplot)\n",
    "%matplotlib inline\n",
    "import numpy as np \n",
    "from pylab import *"
   ]
  },
  {
   "cell_type": "code",
   "execution_count": 49,
   "metadata": {},
   "outputs": [
    {
     "data": {
      "image/png": "[encoded data removed]",
      "text/plain": [
       "<matplotlib.figure.Figure at 0x256221b5da0>"
      ]
     },
     "metadata": {},
     "output_type": "display_data"
    }
   ],
   "source": [
    "n = 1000 # Setzt die Länge und Breite der Matrix bzw. ist gleichzusetzen mit der Anzahl der Gitterpunkte.\n",
    "\n",
    "x = linspace(0,2*pi,n) # Erstellt die Definitionsbereich (x) der Funktion.\n",
    "y = sin(x) # Erstellt den Wertebereich (y) der Funktion.\n",
    "\n",
    "# Erstellt D wie oben erklärt.\n",
    "D = np.eye(n,k=+1) - np.eye(n,k=-1)\n",
    "D[0,-1] = -1\n",
    "D[-1,0] = 1\n",
    "D[-1,:] = 0\n",
    "y[-1] = 0\n",
    "\n",
    "df = D.dot(y)/(2*2*pi/n) # Berechnet den Wertebereich der 1.Ableitung durch Matrix-Vektormultiplikation und schreibt diese in den Vektor df.\n",
    "d2f = D.dot(df)/(2*2*pi/n) # Berechnet die Funktionswerte der 2.Ableitung durch Matrix-Vektormultiplikation und schreibt diese in den Vektor d2f.\n",
    "\n",
    "# Dient zum Plotten der Funktionen:\n",
    "# Die ersten 5 und die letzten 5 Gitterpunkte der Funktionen werden nicht beachtet, da diese sehr ungenau sind.\n",
    "plot(x[5:n-5],y[5:n-5],'b',label='$sin(x)$')\n",
    "plot(x[5:n-5],df[5:n-5],'g',label=\"$sin'(x)$\")\n",
    "plot(x[5:n-5],d2f[5:n-5],'r',label='''$sin''(x)$''')\n",
    "legend()\n",
    "show()"
   ]
  },
  {
   "cell_type": "markdown",
   "metadata": {},
   "source": [
    "### Aufgabe 2 : Der getriebene, gedaempfte harm. Oszillator"
   ]
  },
  {
   "cell_type": "markdown",
   "metadata": {},
   "source": [
    "Der getriebene, gedaempfte harmonische Oszillator genuegt der Differentialgleichung\n",
    "\n",
    "$$\n",
    "    \\ddot x + 2\\gamma \\dot x + \\omega_0^2 x = A \\cos(t)\n",
    "$$\n",
    "z.B. mit $\\gamma=0.1$, $\\omega_0=1.0$ und $A=1.0$.\n",
    "- Schreiben Sie eine Funktion `limit_cycle(omega0=1.0,gamma=0.1,A=1.0,N=100)`, welche die lineare, inhomogene Differentialgleichung in `N` Zeitschritte ueber eine Periode der antreibenen Kraft diskretisiert und als lineares Gleichungssystem \n",
    "<br><br>\n",
    "$$\n",
    "    \\frac{1}{4h^2}\\textrm{D}^2\\cdot \\vec{x} + 2\\gamma \\frac{1}{2h}\\textrm{D}\\cdot \\vec{x} + \\omega_0^2 ~\\mathbf{1}\\cdot \\vec{x} = A cos(\\vec{t})\n",
    "$$\n",
    "loest. \n",
    "\n",
    "- Bestimmen und zeichnen Sie die Amplitude $B$ und die Phasenverschiebung $\\varphi$ der Loesung $x = B \\cos(t-\\varphi)$ als Funktion von $\\omega_0$. Hierfuer kann man die numpy Array Methode `x.argmax()` verwenden, welche den Index des maximalen Elements von `x` liefert.\n",
    "- Zeichnen Sie die analytischen Loesungen\n",
    "$$\n",
    "\\begin{eqnarray}\n",
    "    B &=& \\frac{A}{\\sqrt{(\\omega_0^2-1)^2+4\\gamma^2}} \\\\\n",
    "    \\tan\\varphi &=& \\frac{-2\\gamma}{\\omega_0^2-1}\n",
    "\\end{eqnarray}\n",
    "$$\n",
    "ueber die von Ihnen numerisch gefundenen Loesungen als Funktion der Eigenfrequenz $\\omega_0$ des harmonischen Oscillators. *Hinweis :* Die Methode `numpy.arctan2(y,x)` gibt den Winkel `alpha` mit `sin(alpha)=y` und `cos(alpha)=x` zurueck."
   ]
  },
  {
   "cell_type": "code",
   "execution_count": 50,
   "metadata": {
    "collapsed": true
   },
   "outputs": [],
   "source": [
    "import numpy as np\n",
    "def limit_cycle(omega0=1.0,gamma=0.1,A=1.0,N=100) :\n",
    "    \"\"\" \n",
    "    Bestimmt die Loesung der inhomogenen linearen Differentialgleichung\n",
    "    d^2x/dt^2 + 2 gamma dx/dt + omega0^2 x = A cos(t)\n",
    "    auf dem in N Punkte diskretisierten periodischen Zeitintervall [0,2pi)\n",
    "    \"\"\"\n",
    "    \n",
    "    #your code goes here\n",
    "    t = linspace(0,2*np.pi,N,endpoint=False) # Erstellt eine 1xN Matrix t im Intervall von 0 bis 2pi mit N Elementen, wobei die Endpunkte vernachlässigt werden.\n",
    "    \n",
    "    h = abs(t[1]-t[0]) # Definiert h als den Abstand zwischen dem 1. und 2. Element der Liste t.\n",
    "    \n",
    "    D = np.eye(N,k=1) - np.eye(N,k=-1) # Erstellt eine Matrix mit Nullen auf der Urdiginalen, mit einer Diagonalen von Einsen darüber und einer Diagonalen von negativen Einsen darunter.       \n",
    "    D[0,-1 ]= -1 # Setzt die letzte Spalte der obersten Reihe auf -1.        \n",
    "    D[-1,0] = 1 # Setzt die erste Spalte der untersten Reihe auf 1.\n",
    "    \n",
    "    LGS = 1/(4*h**2) * D.dot(D) + (2 * gamma * (1/(2*h))) * D + (omega0**2) * np.eye(N)   \n",
    "    # Berechnet den linken Teil der zweiten Gleichung ohne das x, welches gesucht ist.\n",
    "    # D.dot(D) multipliziert die Matrix mit sich selbst                                                                                   \n",
    "    # omega0 zum Quadrat wird mit der Einheitsmatrix (np.eye(N)) multipliziert, um eine Einheitsmatix mit omega0**2 in der Urdiagonalen zu erhalten, bevor sie mir der Matrix D multipliziert wird.\n",
    "    \n",
    "    b = A * cos(t) # Ddefiniert b als den rechten Term.\n",
    "    \n",
    "    x = np.linalg.solve(LGS,b)               # Berechnet aus dem LGS und b den gesuchten Vektor x.\n",
    "    \n",
    "    plot(t,x)                                # Plottet t gegen x.\n",
    "    return x                                 # Gibt x zurück."
   ]
  },
  {
   "cell_type": "code",
   "execution_count": 51,
   "metadata": {},
   "outputs": [
    {
     "name": "stdout",
     "output_type": "stream",
     "text": [
      "[ 0.          0.00628947  0.01257895  0.01886842  0.0251579   0.03144737\n",
      "  0.03773685  0.04402632  0.0503158   0.05660527  0.06289475  0.06918422\n",
      "  0.0754737   0.08176317  0.08805265  0.09434212  0.1006316   0.10692107\n",
      "  0.11321055  0.11950002  0.1257895   0.13207897  0.13836845  0.14465792\n",
      "  0.15094739  0.15723687  0.16352634  0.16981582  0.17610529  0.18239477\n",
      "  0.18868424  0.19497372  0.20126319  0.20755267  0.21384214  0.22013162\n",
      "  0.22642109  0.23271057  0.23900004  0.24528952  0.25157899  0.25786847\n",
      "  0.26415794  0.27044742  0.27673689  0.28302637  0.28931584  0.29560531\n",
      "  0.30189479  0.30818426  0.31447374  0.32076321  0.32705269  0.33334216\n",
      "  0.33963164  0.34592111  0.35221059  0.35850006  0.36478954  0.37107901\n",
      "  0.37736849  0.38365796  0.38994744  0.39623691  0.40252639  0.40881586\n",
      "  0.41510534  0.42139481  0.42768429  0.43397376  0.44026323  0.44655271\n",
      "  0.45284218  0.45913166  0.46542113  0.47171061  0.47800008  0.48428956\n",
      "  0.49057903  0.49686851  0.50315798  0.50944746  0.51573693  0.52202641\n",
      "  0.52831588  0.53460536  0.54089483  0.54718431  0.55347378  0.55976326\n",
      "  0.56605273  0.57234221  0.57863168  0.58492115  0.59121063  0.5975001\n",
      "  0.60378958  0.61007905  0.61636853  0.622658    0.62894748  0.63523695\n",
      "  0.64152643  0.6478159   0.65410538  0.66039485  0.66668433  0.6729738\n",
      "  0.67926328  0.68555275  0.69184223  0.6981317   0.70442118  0.71071065\n",
      "  0.71700013  0.7232896   0.72957907  0.73586855  0.74215802  0.7484475\n",
      "  0.75473697  0.76102645  0.76731592  0.7736054   0.77989487  0.78618435\n",
      "  0.79247382  0.7987633   0.80505277  0.81134225  0.81763172  0.8239212\n",
      "  0.83021067  0.83650015  0.84278962  0.8490791   0.85536857  0.86165805\n",
      "  0.86794752  0.87423699  0.88052647  0.88681594  0.89310542  0.89939489\n",
      "  0.90568437  0.91197384  0.91826332  0.92455279  0.93084227  0.93713174\n",
      "  0.94342122  0.94971069  0.95600017  0.96228964  0.96857912  0.97486859\n",
      "  0.98115807  0.98744754  0.99373702  1.00002649  1.00631597  1.01260544\n",
      "  1.01889491  1.02518439  1.03147386  1.03776334  1.04405281  1.05034229\n",
      "  1.05663176  1.06292124  1.06921071  1.07550019  1.08178966  1.08807914\n",
      "  1.09436861  1.10065809  1.10694756  1.11323704  1.11952651  1.12581599\n",
      "  1.13210546  1.13839494  1.14468441  1.15097389  1.15726336  1.16355283\n",
      "  1.16984231  1.17613178  1.18242126  1.18871073  1.19500021  1.20128968\n",
      "  1.20757916  1.21386863  1.22015811  1.22644758  1.23273706  1.23902653\n",
      "  1.24531601  1.25160548  1.25789496  1.26418443  1.27047391  1.27676338\n",
      "  1.28305286  1.28934233  1.29563181  1.30192128  1.30821075  1.31450023\n",
      "  1.3207897   1.32707918  1.33336865  1.33965813  1.3459476   1.35223708\n",
      "  1.35852655  1.36481603  1.3711055   1.37739498  1.38368445  1.38997393\n",
      "  1.3962634   1.40255288  1.40884235  1.41513183  1.4214213   1.42771078\n",
      "  1.43400025  1.44028973  1.4465792   1.45286867  1.45915815  1.46544762\n",
      "  1.4717371   1.47802657  1.48431605  1.49060552  1.496895    1.50318447\n",
      "  1.50947395  1.51576342  1.5220529   1.52834237  1.53463185  1.54092132\n",
      "  1.5472108   1.55350027  1.55978975  1.56607922  1.5723687   1.57865817\n",
      "  1.58494765  1.59123712  1.59752659  1.60381607  1.61010554  1.61639502\n",
      "  1.62268449  1.62897397  1.63526344  1.64155292  1.64784239  1.65413187\n",
      "  1.66042134  1.66671082  1.67300029  1.67928977  1.68557924  1.69186872\n",
      "  1.69815819  1.70444767  1.71073714  1.71702662  1.72331609  1.72960557\n",
      "  1.73589504  1.74218451  1.74847399  1.75476346  1.76105294  1.76734241\n",
      "  1.77363189  1.77992136  1.78621084  1.79250031  1.79878979  1.80507926\n",
      "  1.81136874  1.81765821  1.82394769  1.83023716  1.83652664  1.84281611\n",
      "  1.84910559  1.85539506  1.86168454  1.86797401  1.87426349  1.88055296\n",
      "  1.88684243  1.89313191  1.89942138  1.90571086  1.91200033  1.91828981\n",
      "  1.92457928  1.93086876  1.93715823  1.94344771  1.94973718  1.95602666\n",
      "  1.96231613  1.96860561  1.97489508  1.98118456  1.98747403  1.99376351\n",
      "  2.00005298  2.00634246  2.01263193  2.01892141  2.02521088  2.03150035\n",
      "  2.03778983  2.0440793   2.05036878  2.05665825  2.06294773  2.0692372\n",
      "  2.07552668  2.08181615  2.08810563  2.0943951   2.10068458  2.10697405\n",
      "  2.11326353  2.119553    2.12584248  2.13213195  2.13842143  2.1447109\n",
      "  2.15100038  2.15728985  2.16357932  2.1698688   2.17615827  2.18244775\n",
      "  2.18873722  2.1950267   2.20131617  2.20760565  2.21389512  2.2201846\n",
      "  2.22647407  2.23276355  2.23905302  2.2453425   2.25163197  2.25792145\n",
      "  2.26421092  2.2705004   2.27678987  2.28307935  2.28936882  2.2956583\n",
      "  2.30194777  2.30823724  2.31452672  2.32081619  2.32710567  2.33339514\n",
      "  2.33968462  2.34597409  2.35226357  2.35855304  2.36484252  2.37113199\n",
      "  2.37742147  2.38371094  2.39000042  2.39628989  2.40257937  2.40886884\n",
      "  2.41515832  2.42144779  2.42773727  2.43402674  2.44031622  2.44660569\n",
      "  2.45289516  2.45918464  2.46547411  2.47176359  2.47805306  2.48434254\n",
      "  2.49063201  2.49692149  2.50321096  2.50950044  2.51578991  2.52207939\n",
      "  2.52836886  2.53465834  2.54094781  2.54723729  2.55352676  2.55981624\n",
      "  2.56610571  2.57239519  2.57868466  2.58497414  2.59126361  2.59755308\n",
      "  2.60384256  2.61013203  2.61642151  2.62271098  2.62900046  2.63528993\n",
      "  2.64157941  2.64786888  2.65415836  2.66044783  2.66673731  2.67302678\n",
      "  2.67931626  2.68560573  2.69189521  2.69818468  2.70447416  2.71076363\n",
      "  2.71705311  2.72334258  2.72963206  2.73592153  2.742211    2.74850048\n",
      "  2.75478995  2.76107943  2.7673689   2.77365838  2.77994785  2.78623733\n",
      "  2.7925268   2.79881628  2.80510575  2.81139523  2.8176847   2.82397418\n",
      "  2.83026365  2.83655313  2.8428426   2.84913208  2.85542155  2.86171103\n",
      "  2.8680005   2.87428998  2.88057945  2.88686892  2.8931584   2.89944787\n",
      "  2.90573735  2.91202682  2.9183163   2.92460577  2.93089525  2.93718472\n",
      "  2.9434742   2.94976367  2.95605315  2.96234262  2.9686321   2.97492157\n",
      "  2.98121105  2.98750052  2.99379     3.00007947  3.00636895  3.01265842\n",
      "  3.0189479   3.02523737  3.03152684  3.03781632  3.04410579  3.05039527\n",
      "  3.05668474  3.06297422  3.06926369  3.07555317  3.08184264  3.08813212\n",
      "  3.09442159  3.10071107  3.10700054  3.11329002  3.11957949  3.12586897\n",
      "  3.13215844  3.13844792  3.14473739  3.15102687  3.15731634  3.16360582\n",
      "  3.16989529  3.17618476  3.18247424  3.18876371  3.19505319  3.20134266\n",
      "  3.20763214  3.21392161  3.22021109  3.22650056  3.23279004  3.23907951\n",
      "  3.24536899  3.25165846  3.25794794  3.26423741  3.27052689  3.27681636\n",
      "  3.28310584  3.28939531  3.29568479  3.30197426  3.30826374  3.31455321\n",
      "  3.32084268  3.32713216  3.33342163  3.33971111  3.34600058  3.35229006\n",
      "  3.35857953  3.36486901  3.37115848  3.37744796  3.38373743  3.39002691\n",
      "  3.39631638  3.40260586  3.40889533  3.41518481  3.42147428  3.42776376\n",
      "  3.43405323  3.44034271  3.44663218  3.45292166  3.45921113  3.4655006\n",
      "  3.47179008  3.47807955  3.48436903  3.4906585   3.49694798  3.50323745\n",
      "  3.50952693  3.5158164   3.52210588  3.52839535  3.53468483  3.5409743\n",
      "  3.54726378  3.55355325  3.55984273  3.5661322   3.57242168  3.57871115\n",
      "  3.58500063  3.5912901   3.59757958  3.60386905  3.61015852  3.616448\n",
      "  3.62273747  3.62902695  3.63531642  3.6416059   3.64789537  3.65418485\n",
      "  3.66047432  3.6667638   3.67305327  3.67934275  3.68563222  3.6919217\n",
      "  3.69821117  3.70450065  3.71079012  3.7170796   3.72336907  3.72965855\n",
      "  3.73594802  3.7422375   3.74852697  3.75481644  3.76110592  3.76739539\n",
      "  3.77368487  3.77997434  3.78626382  3.79255329  3.79884277  3.80513224\n",
      "  3.81142172  3.81771119  3.82400067  3.83029014  3.83657962  3.84286909\n",
      "  3.84915857  3.85544804  3.86173752  3.86802699  3.87431647  3.88060594\n",
      "  3.88689542  3.89318489  3.89947436  3.90576384  3.91205331  3.91834279\n",
      "  3.92463226  3.93092174  3.93721121  3.94350069  3.94979016  3.95607964\n",
      "  3.96236911  3.96865859  3.97494806  3.98123754  3.98752701  3.99381649\n",
      "  4.00010596  4.00639544  4.01268491  4.01897439  4.02526386  4.03155334\n",
      "  4.03784281  4.04413228  4.05042176  4.05671123  4.06300071  4.06929018\n",
      "  4.07557966  4.08186913  4.08815861  4.09444808  4.10073756  4.10702703\n",
      "  4.11331651  4.11960598  4.12589546  4.13218493  4.13847441  4.14476388\n",
      "  4.15105336  4.15734283  4.16363231  4.16992178  4.17621126  4.18250073\n",
      "  4.1887902   4.19507968  4.20136915  4.20765863  4.2139481   4.22023758\n",
      "  4.22652705  4.23281653  4.239106    4.24539548  4.25168495  4.25797443\n",
      "  4.2642639   4.27055338  4.27684285  4.28313233  4.2894218   4.29571128\n",
      "  4.30200075  4.30829023  4.3145797   4.32086918  4.32715865  4.33344812\n",
      "  4.3397376   4.34602707  4.35231655  4.35860602  4.3648955   4.37118497\n",
      "  4.37747445  4.38376392  4.3900534   4.39634287  4.40263235  4.40892182\n",
      "  4.4152113   4.42150077  4.42779025  4.43407972  4.4403692   4.44665867\n",
      "  4.45294815  4.45923762  4.4655271   4.47181657  4.47810604  4.48439552\n",
      "  4.49068499  4.49697447  4.50326394  4.50955342  4.51584289  4.52213237\n",
      "  4.52842184  4.53471132  4.54100079  4.54729027  4.55357974  4.55986922\n",
      "  4.56615869  4.57244817  4.57873764  4.58502712  4.59131659  4.59760607\n",
      "  4.60389554  4.61018502  4.61647449  4.62276396  4.62905344  4.63534291\n",
      "  4.64163239  4.64792186  4.65421134  4.66050081  4.66679029  4.67307976\n",
      "  4.67936924  4.68565871  4.69194819  4.69823766  4.70452714  4.71081661\n",
      "  4.71710609  4.72339556  4.72968504  4.73597451  4.74226399  4.74855346\n",
      "  4.75484294  4.76113241  4.76742188  4.77371136  4.78000083  4.78629031\n",
      "  4.79257978  4.79886926  4.80515873  4.81144821  4.81773768  4.82402716\n",
      "  4.83031663  4.83660611  4.84289558  4.84918506  4.85547453  4.86176401\n",
      "  4.86805348  4.87434296  4.88063243  4.88692191  4.89321138  4.89950086\n",
      "  4.90579033  4.9120798   4.91836928  4.92465875  4.93094823  4.9372377\n",
      "  4.94352718  4.94981665  4.95610613  4.9623956   4.96868508  4.97497455\n",
      "  4.98126403  4.9875535   4.99384298  5.00013245  5.00642193  5.0127114\n",
      "  5.01900088  5.02529035  5.03157983  5.0378693   5.04415878  5.05044825\n",
      "  5.05673772  5.0630272   5.06931667  5.07560615  5.08189562  5.0881851\n",
      "  5.09447457  5.10076405  5.10705352  5.113343    5.11963247  5.12592195\n",
      "  5.13221142  5.1385009   5.14479037  5.15107985  5.15736932  5.1636588\n",
      "  5.16994827  5.17623775  5.18252722  5.1888167   5.19510617  5.20139564\n",
      "  5.20768512  5.21397459  5.22026407  5.22655354  5.23284302  5.23913249\n",
      "  5.24542197  5.25171144  5.25800092  5.26429039  5.27057987  5.27686934\n",
      "  5.28315882  5.28944829  5.29573777  5.30202724  5.30831672  5.31460619\n",
      "  5.32089567  5.32718514  5.33347462  5.33976409  5.34605356  5.35234304\n",
      "  5.35863251  5.36492199  5.37121146  5.37750094  5.38379041  5.39007989\n",
      "  5.39636936  5.40265884  5.40894831  5.41523779  5.42152726  5.42781674\n",
      "  5.43410621  5.44039569  5.44668516  5.45297464  5.45926411  5.46555359\n",
      "  5.47184306  5.47813254  5.48442201  5.49071148  5.49700096  5.50329043\n",
      "  5.50957991  5.51586938  5.52215886  5.52844833  5.53473781  5.54102728\n",
      "  5.54731676  5.55360623  5.55989571  5.56618518  5.57247466  5.57876413\n",
      "  5.58505361  5.59134308  5.59763256  5.60392203  5.61021151  5.61650098\n",
      "  5.62279046  5.62907993  5.6353694   5.64165888  5.64794835  5.65423783\n",
      "  5.6605273   5.66681678  5.67310625  5.67939573  5.6856852   5.69197468\n",
      "  5.69826415  5.70455363  5.7108431   5.71713258  5.72342205  5.72971153\n",
      "  5.736001    5.74229048  5.74857995  5.75486943  5.7611589   5.76744838\n",
      "  5.77373785  5.78002732  5.7863168   5.79260627  5.79889575  5.80518522\n",
      "  5.8114747   5.81776417  5.82405365  5.83034312  5.8366326   5.84292207\n",
      "  5.84921155  5.85550102  5.8617905   5.86807997  5.87436945  5.88065892\n",
      "  5.8869484   5.89323787  5.89952735  5.90581682  5.9121063   5.91839577\n",
      "  5.92468524  5.93097472  5.93726419  5.94355367  5.94984314  5.95613262\n",
      "  5.96242209  5.96871157  5.97500104  5.98129052  5.98757999  5.99386947\n",
      "  6.00015894  6.00644842  6.01273789  6.01902737  6.02531684  6.03160632\n",
      "  6.03789579  6.04418527  6.05047474  6.05676422  6.06305369  6.06934316\n",
      "  6.07563264  6.08192211  6.08821159  6.09450106  6.10079054  6.10708001\n",
      "  6.11336949  6.11965896  6.12594844  6.13223791  6.13852739  6.14481686\n",
      "  6.15110634  6.15739581  6.16368529  6.16997476  6.17626424  6.18255371\n",
      "  6.18884319  6.19513266  6.20142214  6.20771161  6.21400108  6.22029056\n",
      "  6.22658003  6.23286951  6.23915898  6.24544846  6.25173793  6.25802741\n",
      "  6.26431688  6.27060636  6.27689583  6.28318531]\n"
     ]
    }
   ],
   "source": [
    "print(x)"
   ]
  },
  {
   "cell_type": "code",
   "execution_count": 52,
   "metadata": {},
   "outputs": [
    {
     "data": {
      "image/png": "[encoded data removed]",
      "text/plain": [
       "<matplotlib.figure.Figure at 0x25620fbf4a8>"
      ]
     },
     "metadata": {},
     "output_type": "display_data"
    }
   ],
   "source": [
    "L = 100\n",
    "omega0 = np.linspace(0.1,4,L)\n",
    "B = np.zeros(L) # Erstellt eine Matrix aus Nullen.\n",
    "phi = np.zeros(L) # Erstellt eine Matrix mit Nullen\n",
    "\n",
    "# bestimme B und phi numerisch fuer alle Werte in omega0\n",
    "# definiere die theoretischen Werte Bth und phith\n",
    "\n",
    "for n in range(0,L): # Lässt n von 0 bis L laufen- \n",
    "    \n",
    "    x = limit_cycle(omega0 = omega0[n],N = L) # Erzeugt eine 1xN Matrix x, welche mit den Werten der Funktion limit_cycle gefüllt ist.\n",
    "    \n",
    "    B[n] = x[x.argmax()] # Gibt den Maximalwert von B an der Stelle n aus.\n",
    "    \n",
    "    phi[n] = -x.argmax() * ((2 * pi) / L) # Gibt den Maximalwert von phi an der Stelle n aus.\n",
    "    # -x, da die Funktion nach unten verläuft\n",
    "    # (2*pi)/L, da phi ein Winkel ist und mit dem Bogenmaß gearbeitet wird.\n",
    "A = 1 # Setzt A.\n",
    "gamma = 0.1 # Setzt gamma.\n",
    "Bth = np.zeros(L) # Erstellt eine NxN Matrix 'Bth', gefüllt mit Nullen.\n",
    "phith = np.zeros(L)  # Erstellt eine Matrix gefüllt mir Nullen.    \n",
    "\n",
    "for n in range(0,L): # Lässt n von 0 bis L laufen. \n",
    "    \n",
    "    Bth[n] = A / (sqrt((omega0[n] ** 2 - 1) ** 2) + 4 * gamma ** 2) # Errechnet den theoretischen Wert von B nach der dritten Gleichung und ersetzt die Nullen mit dem Ergebnis.\n",
    "    phith[n] = np.arctan2(-2 * gamma,omega0[n] ** 2 - 1) # Berechnet den theoretischen Wert von phi nach der vierten Gleichung und ersetzt die Nullen mit dem Ergebnis. \n",
    "    \n",
    "\n",
    "subplot(2,1,1)\n",
    "plot(omega0,B,label='num.')\n",
    "plot(omega0,Bth,'k--',label='Theorie')\n",
    "legend()\n",
    "xlabel('$\\omega_0$')\n",
    "ylabel('$B$')\n",
    "\n",
    "\n",
    "subplot(2,1,2)\n",
    "plot(omega0,phi,label='num.')\n",
    "plot(omega0,phith,'k--',label='Theorie')\n",
    "legend()\n",
    "xlabel('$\\omega_0$')\n",
    "ylabel('$\\phi$')\n",
    "show()"
   ]
  },
  {
   "cell_type": "code",
   "execution_count": null,
   "metadata": {
    "collapsed": true
   },
   "outputs": [],
   "source": []
  },
  {
   "cell_type": "code",
   "execution_count": null,
   "metadata": {
    "collapsed": true
   },
   "outputs": [],
   "source": []
  },
  {
   "cell_type": "code",
   "execution_count": null,
   "metadata": {
    "collapsed": true
   },
   "outputs": [],
   "source": []
  }
 ],
 "metadata": {
  "kernelspec": {
   "display_name": "Python 3",
   "language": "python",
   "name": "python3"
  },
  "language_info": {
   "codemirror_mode": {
    "name": "ipython",
    "version": 3
   },
   "file_extension": ".py",
   "mimetype": "text/x-python",
   "name": "python",
   "nbconvert_exporter": "python",
   "pygments_lexer": "ipython3",
   "version": "3.6.1"
  }
 },
 "nbformat": 4,
 "nbformat_minor": 1
}
